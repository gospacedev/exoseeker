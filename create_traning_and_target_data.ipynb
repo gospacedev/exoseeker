{
 "cells": [
  {
   "cell_type": "code",
   "execution_count": 54,
   "id": "63716f98",
   "metadata": {},
   "outputs": [],
   "source": [
    "import pandas as pd"
   ]
  },
  {
   "cell_type": "code",
   "execution_count": null,
   "id": "fdb8e9d8",
   "metadata": {},
   "outputs": [],
   "source": [
    "cumulative_dataset_path = \"dataset/cumulative_2025.10.04_06.17.34.csv\"\n",
    "\n",
    "df = pd.read_csv(cumulative_dataset_path)"
   ]
  },
  {
   "cell_type": "code",
   "execution_count": 56,
   "id": "ea542d26",
   "metadata": {},
   "outputs": [
    {
     "name": "stdout",
     "output_type": "stream",
     "text": [
      "<class 'pandas.core.frame.DataFrame'>\n",
      "RangeIndex: 9564 entries, 0 to 9563\n",
      "Data columns (total 50 columns):\n",
      " #   Column             Non-Null Count  Dtype  \n",
      "---  ------             --------------  -----  \n",
      " 0   loc_rowid          9564 non-null   int64  \n",
      " 1   kepid              9564 non-null   int64  \n",
      " 2   kepoi_name         9564 non-null   object \n",
      " 3   kepler_name        2747 non-null   object \n",
      " 4   koi_disposition    9564 non-null   object \n",
      " 5   koi_pdisposition   9564 non-null   object \n",
      " 6   koi_score          8054 non-null   float64\n",
      " 7   koi_fpflag_nt      9564 non-null   int64  \n",
      " 8   koi_fpflag_ss      9564 non-null   int64  \n",
      " 9   koi_fpflag_co      9564 non-null   int64  \n",
      " 10  koi_fpflag_ec      9564 non-null   int64  \n",
      " 11  koi_period         9564 non-null   float64\n",
      " 12  koi_period_err1    9110 non-null   float64\n",
      " 13  koi_period_err2    9110 non-null   float64\n",
      " 14  koi_time0bk        9564 non-null   float64\n",
      " 15  koi_time0bk_err1   9110 non-null   float64\n",
      " 16  koi_time0bk_err2   9110 non-null   float64\n",
      " 17  koi_impact         9201 non-null   float64\n",
      " 18  koi_impact_err1    9110 non-null   float64\n",
      " 19  koi_impact_err2    9110 non-null   float64\n",
      " 20  koi_duration       9564 non-null   float64\n",
      " 21  koi_duration_err1  9110 non-null   float64\n",
      " 22  koi_duration_err2  9110 non-null   float64\n",
      " 23  koi_depth          9201 non-null   float64\n",
      " 24  koi_depth_err1     9110 non-null   float64\n",
      " 25  koi_depth_err2     9110 non-null   float64\n",
      " 26  koi_prad           9201 non-null   float64\n",
      " 27  koi_prad_err1      9201 non-null   float64\n",
      " 28  koi_prad_err2      9201 non-null   float64\n",
      " 29  koi_teq            9201 non-null   float64\n",
      " 30  koi_teq_err1       0 non-null      float64\n",
      " 31  koi_teq_err2       0 non-null      float64\n",
      " 32  koi_insol          9243 non-null   float64\n",
      " 33  koi_insol_err1     9243 non-null   float64\n",
      " 34  koi_insol_err2     9243 non-null   float64\n",
      " 35  koi_model_snr      9201 non-null   float64\n",
      " 36  koi_tce_plnt_num   9218 non-null   float64\n",
      " 37  koi_tce_delivname  9218 non-null   object \n",
      " 38  koi_steff          9201 non-null   float64\n",
      " 39  koi_steff_err1     9096 non-null   float64\n",
      " 40  koi_steff_err2     9081 non-null   float64\n",
      " 41  koi_slogg          9201 non-null   float64\n",
      " 42  koi_slogg_err1     9096 non-null   float64\n",
      " 43  koi_slogg_err2     9096 non-null   float64\n",
      " 44  koi_srad           9201 non-null   float64\n",
      " 45  koi_srad_err1      9096 non-null   float64\n",
      " 46  koi_srad_err2      9096 non-null   float64\n",
      " 47  ra                 9564 non-null   float64\n",
      " 48  dec                9564 non-null   float64\n",
      " 49  koi_kepmag         9563 non-null   float64\n",
      "dtypes: float64(39), int64(6), object(5)\n",
      "memory usage: 3.6+ MB\n"
     ]
    }
   ],
   "source": [
    "df.info()"
   ]
  },
  {
   "cell_type": "code",
   "execution_count": 57,
   "id": "e36821af",
   "metadata": {},
   "outputs": [],
   "source": [
    "target_n = 1000\n",
    "\n",
    "training_data = df.drop(df.tail(target_n).index,inplace=True)\n",
    "\n",
    "df.to_csv(\"dataset/training_dataset.csv\", sep=\",\", encoding=\"utf-8\", index=False, header=True)"
   ]
  },
  {
   "cell_type": "code",
   "execution_count": 58,
   "id": "3509ee65",
   "metadata": {},
   "outputs": [],
   "source": [
    "target_data = df.iloc[:,-1000:]\n",
    "\n",
    "target_data = target_data.drop([\"koi_disposition\"], axis=1)\n",
    "\n",
    "target_data.to_csv(\"dataset/target_data.csv\", sep=\",\", encoding=\"utf-8\", index=False, header=True)"
   ]
  }
 ],
 "metadata": {
  "kernelspec": {
   "display_name": "exoseeker-venv",
   "language": "python",
   "name": "python3"
  },
  "language_info": {
   "codemirror_mode": {
    "name": "ipython",
    "version": 3
   },
   "file_extension": ".py",
   "mimetype": "text/x-python",
   "name": "python",
   "nbconvert_exporter": "python",
   "pygments_lexer": "ipython3",
   "version": "3.13.7"
  }
 },
 "nbformat": 4,
 "nbformat_minor": 5
}
